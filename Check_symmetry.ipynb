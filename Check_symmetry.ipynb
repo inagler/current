{
 "cells": [
  {
   "cell_type": "code",
   "execution_count": 33,
   "id": "744af13b-dc2b-40ef-8a1a-b84a9d5890c1",
   "metadata": {},
   "outputs": [],
   "source": [
    "import xarray as xr\n",
    "import numpy as np\n",
    "import glob\n",
    "import csv                  # to save indices\n",
    "import pandas as pd"
   ]
  },
  {
   "cell_type": "markdown",
   "id": "835fe76d-42aa-4df1-8c16-4bd602b85ba1",
   "metadata": {},
   "source": [
    "# Check whether assymtry in events exists in wind forcing on Labrador Sea"
   ]
  },
  {
   "cell_type": "code",
   "execution_count": 21,
   "id": "c37021a2-05fc-4ec1-858d-a42aaf314fa4",
   "metadata": {},
   "outputs": [],
   "source": [
    "path = '/Data/gfi/share/ModData/CESM2_LENS2/ocean/monthly/comp/all_member_timeseries/'\n",
    "\n",
    "wind_files = sorted(glob.glob(path + 'monthly_tau_member*'))\n"
   ]
  },
  {
   "cell_type": "code",
   "execution_count": 42,
   "id": "88a11429-865c-4def-b19f-e3d0db642834",
   "metadata": {},
   "outputs": [],
   "source": [
    "window_size = 40\n",
    "duration_threshold = 20\n",
    "period = window_size + duration_threshold\n",
    "\n",
    "threshold_multiple = 1\n",
    "\n",
    "criteria_indices_dict = {}"
   ]
  },
  {
   "cell_type": "code",
   "execution_count": 47,
   "id": "0252e407-b995-4684-963b-6e9e15f7324b",
   "metadata": {},
   "outputs": [],
   "source": [
    "for i in range(len(wind_files)):\n",
    "    \n",
    "    ds = xr.open_dataarray(wind_files[i])\n",
    "    \n",
    "    signal = ds.resample(time='1Y').mean().sel(time=slice(None, '2015'))\n",
    "    criteria_indices = []\n",
    "    for j in range(window_size, len(signal) - duration_threshold):\n",
    "\n",
    "        # Compute mean and std of period 1\n",
    "        window = signal[j - window_size:j]\n",
    "        std_window = np.std(window)\n",
    "        avg_window = np.mean(window)\n",
    "\n",
    "        # compute mean of period 2\n",
    "        threshold = signal[j:j + duration_threshold]\n",
    "        avg_threshold = np.mean(threshold)\n",
    "\n",
    "        # Check if the std is above the threshold\n",
    "        if avg_threshold >= avg_window + (threshold_multiple * std_window):\n",
    "            condition = \"Above\"\n",
    "        elif avg_threshold <= avg_window - (threshold_multiple * std_window):\n",
    "            condition = \"Below\"\n",
    "        else:\n",
    "            condition = \"Within\"\n",
    "\n",
    "        if condition != \"Within\":\n",
    "            if len(criteria_indices) == 0:\n",
    "                criteria_indices.append((j, condition))\n",
    "            elif j >= criteria_indices[-1][0] + 10:\n",
    "                criteria_indices.append((j, condition))\n",
    "                \n",
    "            #print('event found')\n",
    "\n",
    "    # Save criteria_indices in the dictionary\n",
    "    criteria_indices_dict[i] = criteria_indices"
   ]
  },
  {
   "cell_type": "code",
   "execution_count": 48,
   "id": "8671c7b1-f57d-4100-a19c-d6d285de5946",
   "metadata": {},
   "outputs": [],
   "source": [
    "# handle data in dictionary\n",
    "result = []\n",
    "for index, values in criteria_indices_dict.items():\n",
    "    if values:\n",
    "        result.append((index, values))"
   ]
  },
  {
   "cell_type": "code",
   "execution_count": 49,
   "id": "62d75eae-6e09-4cca-be32-7388d61f5a5a",
   "metadata": {},
   "outputs": [],
   "source": [
    "# save data to csv file\n",
    "with open('1_std_events_wind_lab.csv', 'w', newline='') as csvfile:\n",
    "    fieldnames = ['Index', 'Values', 'Condition']\n",
    "    writer = csv.DictWriter(csvfile, fieldnames=fieldnames)\n",
    "    writer.writeheader()\n",
    "    for index, values in result:\n",
    "        for value, condition in values:\n",
    "            writer.writerow({'Index': index, 'Values': value, 'Condition': condition})"
   ]
  },
  {
   "cell_type": "code",
   "execution_count": 50,
   "id": "2e415712-49b7-466e-a979-8dccbc843892",
   "metadata": {},
   "outputs": [
    {
     "name": "stdout",
     "output_type": "stream",
     "text": [
      "Above    19\n",
      "Name: Condition, dtype: int64\n"
     ]
    }
   ],
   "source": [
    "# perfrom pandas anaylsis\n",
    "df = pd.read_csv('1_std_events_wind_lab.csv')\n",
    "grouped = df.groupby('Index')\n",
    "condition_counts = df['Condition'].value_counts()\n",
    "print(condition_counts)"
   ]
  },
  {
   "cell_type": "code",
   "execution_count": null,
   "id": "84220180-7f14-4d00-ab67-dcd0c23da5ba",
   "metadata": {},
   "outputs": [],
   "source": []
  }
 ],
 "metadata": {
  "kernelspec": {
   "display_name": "Python 3 (ipykernel)",
   "language": "python",
   "name": "python3"
  },
  "language_info": {
   "codemirror_mode": {
    "name": "ipython",
    "version": 3
   },
   "file_extension": ".py",
   "mimetype": "text/x-python",
   "name": "python",
   "nbconvert_exporter": "python",
   "pygments_lexer": "ipython3",
   "version": "3.10.4"
  }
 },
 "nbformat": 4,
 "nbformat_minor": 5
}
