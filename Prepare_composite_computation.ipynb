{
 "cells": [
  {
   "cell_type": "code",
   "execution_count": null,
   "id": "b2d96213-b24a-43fa-a280-7e2f3bc823b4",
   "metadata": {},
   "outputs": [],
   "source": [
    "import pandas as pd\n",
    "import xarray as xr\n",
    "import pop_tools\n",
    "\n",
    "\n"
   ]
  },
  {
   "cell_type": "markdown",
   "id": "b0a7e130-008b-418e-ae0c-2abec1cdae36",
   "metadata": {},
   "source": [
    "# Process CESM2 LENS2 ocean data by event conditions and compute composites\n",
    "- Load event data and corresponding member files\n",
    "- Apply regional mask using pop_tools\n",
    "- Compute composite timeseries for different event conditions (Above/Below)\n",
    "- Save the resulting composites to NetCDF files in chunks"
   ]
  },
  {
   "cell_type": "markdown",
   "id": "91469363-12c0-41b3-8910-284df9d8d0e4",
   "metadata": {},
   "source": [
    "# Load event data and corresponding member files"
   ]
  },
  {
   "cell_type": "code",
   "execution_count": null,
   "id": "ef7e456c-149a-4415-917a-f981a312a5e7",
   "metadata": {},
   "outputs": [],
   "source": [
    "# Define functions and variables\n",
    "# load data\n",
    "df = pd.read_csv('1_std_events_dens_spg.csv')\n",
    "grouped = df.groupby('Index')\n",
    "path = '/home/innag3580/phase1_CONDA/'\n",
    "\n",
    "# set periods\n",
    "before = 40*12\n",
    "after = 20*12\n",
    "\n",
    "# find file names \n",
    "def find_corresponding_file_name(vvel_number_to_find):\n",
    "    with open(path+'timeseries/order.txt', 'r') as file:\n",
    "        vvel_list = file.readlines()\n",
    "    vvel_dict = {filename.split()[1]: int(filename.split()[0]) for filename in vvel_list}\n",
    "    vvel_filename = None\n",
    "    for filename in vvel_list:\n",
    "        if vvel_dict[filename.split()[1]] == vvel_number_to_find:\n",
    "            vvel_filename = filename.split()[1]  \n",
    "            break\n",
    "    return vvel_filename\n",
    "\n",
    "\n"
   ]
  },
  {
   "cell_type": "markdown",
   "id": "29a337a7-790e-49aa-a5c0-6650b8e2db3d",
   "metadata": {},
   "source": [
    "# Apply regional mask using pop_tools"
   ]
  },
  {
   "cell_type": "code",
   "execution_count": null,
   "id": "dd7e81e5-927d-4b1a-ac54-d9dfbbece078",
   "metadata": {},
   "outputs": [],
   "source": [
    "# set up regional mask\n",
    "grid_name = 'POP_gx1v7'\n",
    "region_defs = {\n",
    "    'North Atlantic and Nordic Seas': [{'match': {'REGION_MASK': [6, 7, 9]}, \n",
    "                             'bounds': {'TLAT': [20., 78.]}}],\n",
    "    'LabradorSea': [{'match': {'REGION_MASK': [8]}, 'bounds': {'TLAT': [45.0, 66.0]}}]\n",
    "} \n",
    "mask3d = pop_tools.region_mask_3d(grid_name, region_defs=region_defs, mask_name='North Atlantic and Nordic Seas')\n",
    "mask3d = mask3d.sum('region')\n",
    "\n",
    "#var_path = ['temp/temp_', 'salt/salt_', 'vvel/vvel_']\n",
    "#save_name = ['1_std_temp','1_std_salt','1_std_vvel']\n",
    "var_path = ['taux/taux_', 'tauy/tauy_', 'shf/shf_']\n",
    "save_name = ['1_std_taux','1_std_tauy','1_std_shf']\n",
    "\n",
    "\n"
   ]
  },
  {
   "cell_type": "markdown",
   "id": "559dfa6c-004b-44ba-85a3-a7edb583c891",
   "metadata": {},
   "source": [
    "# Compute composite timeseries for different event conditions (Above/Below)"
   ]
  },
  {
   "cell_type": "code",
   "execution_count": null,
   "id": "124dffd2-d30e-4d92-b1c7-c17b96d6ab8b",
   "metadata": {},
   "outputs": [],
   "source": [
    "\n",
    "# Process data in chunks\n",
    "def compute_composite_timeseries(datasets):\n",
    "    var_years = []\n",
    "    for t in range(60):\n",
    "        var_year = []\n",
    "        for ds_file in datasets:\n",
    "            var_year.append(ds_file.isel(time=t))\n",
    "        ds_comp = xr.concat(var_year, dim='file').mean(dim='file')\n",
    "        var_years.append(ds_comp)\n",
    "    composite_dataset = xr.concat(var_years, dim='time')\n",
    "    return composite_dataset\n"
   ]
  },
  {
   "cell_type": "code",
   "execution_count": null,
   "id": "1a32d9b5-5a33-4c59-9194-21298a54bbc7",
   "metadata": {},
   "outputs": [],
   "source": []
  },
  {
   "cell_type": "code",
   "execution_count": null,
   "id": "1bbc2412-6f40-4354-85fd-109a065a0393",
   "metadata": {},
   "outputs": [],
   "source": [
    "for i in range(1, len(var_path)):\n",
    "    \n",
    "    iteration_count_below = 0\n",
    "    iteration_count_above = 0\n",
    "    datasets_below = []\n",
    "    datasets_above = []\n",
    "    print('')\n",
    "    print('started: ', var_path[i][5:-1])\n",
    "    \n",
    "    for index, group_data in grouped:\n",
    "        \n",
    "        member = find_corresponding_file_name(index)[5:]\n",
    "        file = '/Data/gfi/share/ModData/CESM2_LENS2/ocean/monthly/' + var_path[i] + member\n",
    "        ds_member = xr.open_dataset(file).where(mask3d == 1).roll(nlon=-100)\n",
    "        print(member, ' started')\n",
    "        \n",
    "        for event, condition in zip(group_data['Values'], group_data['Condition']):\n",
    "            \n",
    "            event_time = event * 12\n",
    "            period_start = max(event_time - before, 0)  # Ensure start is non-negative\n",
    "            period_end = event_time + after\n",
    "            if period_end > ds_member.sizes['time']:\n",
    "                period_end = ds_member.sizes['time']  # Ensure end is within bounds\n",
    "            time_slice = slice(period_start, period_end)\n",
    "            \n",
    "            try:\n",
    "                ds_chunk = ds_member.isel(time=time_slice).resample(time='A').mean(dim='time')\n",
    "                if condition == \"Above\":\n",
    "                    datasets_above.append(ds_chunk)\n",
    "                elif condition == \"Below\":\n",
    "                    datasets_below.append(ds_chunk)\n",
    "                ds_chunk.close()\n",
    "            except ValueError as e:\n",
    "                continue\n",
    "            \n",
    "            if len(datasets_below) >= 5:\n",
    "                composite_dataset_below = compute_composite_timeseries(datasets_below)\n",
    "                iteration_count_below += 1\n",
    "                composite_dataset_below.to_netcdf('/Data/gfi/share/ModData/CESM2_LENS2/ocean/monthly/comp/' + save_name[i] + '_below_' + str(iteration_count_below) + '.nc')\n",
    "                composite_dataset_below.close()\n",
    "                datasets_below = []\n",
    "                print('saved below chunk: ', iteration_count_below)\n",
    "            if len(datasets_above) >= 5:\n",
    "                composite_dataset_above = compute_composite_timeseries(datasets_above)\n",
    "                iteration_count_above += 1\n",
    "                composite_dataset_above.to_netcdf('/Data/gfi/share/ModData/CESM2_LENS2/ocean/monthly/comp/' + save_name[i] + '_above_' + str(iteration_count_above) + '.nc')\n",
    "                composite_dataset_above.close()\n",
    "                datasets_above = []\n",
    "                print('saved above chunk: ', iteration_count_above)\n",
    "                \n",
    "        ds_member.close()\n",
    "\n",
    "    # Process remaining data\n",
    "    if datasets_below:\n",
    "        composite_dataset_below = compute_composite_timeseries(datasets_below)\n",
    "        iteration_count_below += 1\n",
    "        composite_dataset_below.to_netcdf('/Data/gfi/share/ModData/CESM2_LENS2/ocean/monthly/comp/' + save_name[i] + '_below_' + str(iteration_count_below) + '.nc')\n",
    "        composite_dataset_below.close()\n",
    "        print('saved last below chunk')\n",
    "    \n",
    "    if datasets_above:\n",
    "        composite_dataset_above = compute_composite_timeseries(datasets_above)\n",
    "        iteration_count_above += 1\n",
    "        composite_dataset_above.to_netcdf('/Data/gfi/share/ModData/CESM2_LENS2/ocean/monthly/comp/'  + save_name[i] + '_above_' + str(iteration_count_above) + '.nc')\n",
    "        composite_dataset_above.close()\n",
    "        print('saved last above chunk')\n",
    "\n",
    "print('process complete')     \n",
    "\n",
    "\n"
   ]
  },
  {
   "cell_type": "code",
   "execution_count": null,
   "id": "212f4ce3-8d14-4dad-a015-fdee22860b56",
   "metadata": {},
   "outputs": [],
   "source": []
  }
 ],
 "metadata": {
  "kernelspec": {
   "display_name": "Python 3 (ipykernel)",
   "language": "python",
   "name": "python3"
  },
  "language_info": {
   "codemirror_mode": {
    "name": "ipython",
    "version": 3
   },
   "file_extension": ".py",
   "mimetype": "text/x-python",
   "name": "python",
   "nbconvert_exporter": "python",
   "pygments_lexer": "ipython3",
   "version": "3.10.4"
  }
 },
 "nbformat": 4,
 "nbformat_minor": 5
}
