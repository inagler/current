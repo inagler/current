{
 "cells": [
  {
   "cell_type": "code",
   "execution_count": 1,
   "id": "621eaebb-1e63-40a9-ae7a-300d5e3949d4",
   "metadata": {},
   "outputs": [
    {
     "ename": "ModuleNotFoundError",
     "evalue": "No module named 'ruptures'",
     "output_type": "error",
     "traceback": [
      "\u001b[0;31m---------------------------------------------------------------------------\u001b[0m",
      "\u001b[0;31mModuleNotFoundError\u001b[0m                       Traceback (most recent call last)",
      "Input \u001b[0;32mIn [1]\u001b[0m, in \u001b[0;36m<cell line: 8>\u001b[0;34m()\u001b[0m\n\u001b[1;32m      6\u001b[0m \u001b[38;5;28;01mimport\u001b[39;00m \u001b[38;5;21;01mnumpy\u001b[39;00m \u001b[38;5;28;01mas\u001b[39;00m \u001b[38;5;21;01mnp\u001b[39;00m          \u001b[38;5;66;03m# fundamental package for scientific computing\u001b[39;00m\n\u001b[1;32m      7\u001b[0m \u001b[38;5;28;01mimport\u001b[39;00m \u001b[38;5;21;01mglob\u001b[39;00m                 \u001b[38;5;66;03m# return all file paths that match a specific pattern\u001b[39;00m\n\u001b[0;32m----> 8\u001b[0m \u001b[38;5;28;01mimport\u001b[39;00m \u001b[38;5;21;01mruptures\u001b[39;00m \u001b[38;5;28;01mas\u001b[39;00m \u001b[38;5;21;01mrpt\u001b[39;00m      \u001b[38;5;66;03m# for off-line change point detection\u001b[39;00m\n\u001b[1;32m     10\u001b[0m path \u001b[38;5;241m=\u001b[39m \u001b[38;5;124m'\u001b[39m\u001b[38;5;124mtimeseries/\u001b[39m\u001b[38;5;124m'\u001b[39m\n\u001b[1;32m     11\u001b[0m files \u001b[38;5;241m=\u001b[39m glob\u001b[38;5;241m.\u001b[39mglob(path \u001b[38;5;241m+\u001b[39m \u001b[38;5;124m'\u001b[39m\u001b[38;5;124m*demeaned_series.npy\u001b[39m\u001b[38;5;124m'\u001b[39m)\n",
      "\u001b[0;31mModuleNotFoundError\u001b[0m: No module named 'ruptures'"
     ]
    }
   ],
   "source": [
    "#!/usr/bin/env python3\n",
    "# inagler 16/09/23\n",
    "\n",
    "### INITIALISATION ###\n",
    "\n",
    "import numpy as np          # fundamental package for scientific computing\n",
    "import glob                 # return all file paths that match a specific pattern\n",
    "import ruptures as rpt      # for off-line change point detection\n",
    "\n",
    "path = 'timeseries/'\n",
    "files = glob.glob(path + '*demeaned_series.npy')\n",
    "\n"
   ]
  },
  {
   "cell_type": "code",
   "execution_count": null,
   "id": "7f12d340-c564-479a-914a-349d2b754fe6",
   "metadata": {},
   "outputs": [],
   "source": [
    "# length of time series\n",
    "len_time = 3012\n",
    "\n",
    "arrays_dict = {} # Create a dictionary to store the arrays\n",
    "\n",
    "print('initialisation complete')\n",
    "\n",
    "### COMPUTATION ###\n",
    "\n",
    "# loop through list of files\n",
    "for i in range(len(files)):\n",
    "    \n",
    "    signal = np.load(files[i])\n",
    "        \n",
    "    # compute change points\n",
    "    algo_window = rpt.Window(model=\"rbf\").fit(signal) \n",
    "    result = algo_window.fit_predict(signal, pen=40)\n",
    "\n",
    "    # Add the arra to the dictionary with a unique key\n",
    "    key = f\"array_{i}\"\n",
    "    arrays_dict[key] = result\n",
    "    \n",
    "    print('file ', str(i), '/', str(len(files)), ' executed')\n",
    "    \n",
    "print('execution finished')\n",
    "    \n",
    "### OUTPUT ###\n",
    "# Save all change point arrays containing to a single file\n",
    "np.savez(files[i][11:-15]+\"_change_points.npz\", **arrays_dict)\n",
    "    \n",
    "print('saving successful')"
   ]
  }
 ],
 "metadata": {
  "kernelspec": {
   "display_name": "Python 3 (ipykernel)",
   "language": "python",
   "name": "python3"
  },
  "language_info": {
   "codemirror_mode": {
    "name": "ipython",
    "version": 3
   },
   "file_extension": ".py",
   "mimetype": "text/x-python",
   "name": "python",
   "nbconvert_exporter": "python",
   "pygments_lexer": "ipython3",
   "version": "3.10.4"
  }
 },
 "nbformat": 4,
 "nbformat_minor": 5
}
