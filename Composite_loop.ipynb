{
 "cells": [
  {
   "cell_type": "code",
   "execution_count": 5,
   "id": "8c0aa213-2c0f-4909-b21e-07e1e6f5c317",
   "metadata": {},
   "outputs": [],
   "source": [
    "import numpy as np          # fundamental package for scientific computing\n",
    "import os         # to interact with the operating system\n",
    "import numpy as np"
   ]
  },
  {
   "cell_type": "code",
   "execution_count": 13,
   "id": "7fbad486-cba0-432b-a204-eafb499b7af1",
   "metadata": {},
   "outputs": [
    {
     "name": "stdout",
     "output_type": "stream",
     "text": [
      "Member numbers: [ 0  1  8 12 13 16 18 22 27 33 56 58 70]\n",
      "Event location: [120 105  64 141  40  56  55 121  79  41 107  57  56]\n"
     ]
    }
   ],
   "source": [
    "# Load data from 'events_dens_spg.csv' into a NumPy array.\n",
    "data = np.genfromtxt('events_dens_spg.csv', delimiter=',', names=True, dtype=None)\n",
    "\n",
    "# Accessing columns by name\n",
    "member_numbers = data['Index']\n",
    "events = data['Values']\n",
    "member_names = np.zeros(len(member_numbers))\n",
    "\n",
    "# set periods\n",
    "before = 40*12\n",
    "after = 20*12\n",
    "tp = 3*12  s"
   ]
  },
  {
   "cell_type": "code",
   "execution_count": 14,
   "id": "52200516-c0e8-45a1-a965-613892566f51",
   "metadata": {},
   "outputs": [],
   "source": [
    "# find file names \n",
    "\n",
    "def find_corresponding_file_name(vvel_number_to_find):\n",
    "    with open(os.path.expanduser('~/phase1_CONDA/timeseries/order.txt'), 'r') as file:\n",
    "        vvel_list = file.readlines()\n",
    "    vvel_dict = {filename.split()[1]: int(filename.split()[0]) for filename in vvel_list}\n",
    "    vvel_filename = None\n",
    "    for filename in vvel_list:\n",
    "        if vvel_dict[filename.split()[1]] == vvel_number_to_find:\n",
    "            vvel_filename = filename.split()[1]  \n",
    "            break\n",
    "    return vvel_filename"
   ]
  },
  {
   "cell_type": "code",
   "execution_count": 17,
   "id": "bb11a1d5-bba6-49a2-9d7d-bb2b7ed68da3",
   "metadata": {},
   "outputs": [
    {
     "data": {
      "text/plain": [
       "'1301.019.nc'"
      ]
     },
     "execution_count": 17,
     "metadata": {},
     "output_type": "execute_result"
    }
   ],
   "source": [
    "member_names = find_corresponding_file_name(member_numbers[0])[5:]\n",
    "member_names"
   ]
  },
  {
   "cell_type": "code",
   "execution_count": null,
   "id": "c8a79d87-97af-46f8-9031-f10f39fa6225",
   "metadata": {},
   "outputs": [],
   "source": [
    "# define entire time range for event\n",
    "\n",
    "event = events[0]*12\n",
    "\n",
    "\n",
    "# select time range in data array\n",
    "\n"
   ]
  },
  {
   "cell_type": "code",
   "execution_count": null,
   "id": "9ebb28ab-4ee1-4347-b423-a9cb7046497f",
   "metadata": {},
   "outputs": [],
   "source": [
    "# compute average of first period"
   ]
  },
  {
   "cell_type": "code",
   "execution_count": null,
   "id": "9d106a3b-aa73-4153-8951-e17922cdac5f",
   "metadata": {},
   "outputs": [],
   "source": [
    "# compute average of second period"
   ]
  },
  {
   "cell_type": "code",
   "execution_count": null,
   "id": "8f7f54ca-f058-4559-b014-095d27315917",
   "metadata": {},
   "outputs": [],
   "source": [
    "# add all averages per period and divide by number of events"
   ]
  }
 ],
 "metadata": {
  "kernelspec": {
   "display_name": "Python 3 (ipykernel)",
   "language": "python",
   "name": "python3"
  },
  "language_info": {
   "codemirror_mode": {
    "name": "ipython",
    "version": 3
   },
   "file_extension": ".py",
   "mimetype": "text/x-python",
   "name": "python",
   "nbconvert_exporter": "python",
   "pygments_lexer": "ipython3",
   "version": "3.10.4"
  }
 },
 "nbformat": 4,
 "nbformat_minor": 5
}
