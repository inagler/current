{
 "cells": [
  {
   "cell_type": "code",
   "execution_count": 1,
   "id": "e11a69e2-275c-436b-84fd-97afdf7620c7",
   "metadata": {},
   "outputs": [
    {
     "name": "stderr",
     "output_type": "stream",
     "text": [
      "OMP: Info #276: omp_set_nested routine deprecated, please use omp_set_max_active_levels instead.\n"
     ]
    }
   ],
   "source": [
    "### INITIALISATION ###\n",
    "\n",
    "import numpy as np          # fundamental package for scientific computing\n",
    "import xarray as xr         # data handling\n",
    "import glob                 # return all file paths that match a specific pattern\n",
    "import os                   # provide operating system-related functions\n",
    "import pop_tools            # to mask region of interest\n",
    "import gsw                  # compute potential density\n",
    "\n",
    "path = '/Data/gfi/share/ModData/CESM2_LENS2/ocean/monthly/vvel/'\n",
    "salt_path = '/Data/gfi/share/ModData/CESM2_LENS2/ocean/monthly/salt/'\n",
    "temp_path = '/Data/gfi/share/ModData/CESM2_LENS2/ocean/monthly/temp/'\n",
    "files = glob.glob(path + '*.nc')\n",
    "\n",
    "grid_name = 'POP_gx1v7'\n",
    "\n",
    "#setting up of regional mask\n",
    "region_defs = {\n",
    "    'NorthAtlantic':[{'match': {'REGION_MASK': [6]}, 'bounds': {'TLAT': [-20.0, 66.0]}}],\n",
    "    'LabradorSea': [{'match': {'REGION_MASK': [8]}, 'bounds': {'TLAT': [45.0, 66.0]}}],\n",
    "    'MediterraneanSea': [{'match': {'REGION_MASK': [7]}}]} \n",
    "mask3d = pop_tools.region_mask_3d(grid_name, region_defs=region_defs, mask_name='North Atlantic')\n",
    "mask3d = mask3d.sum('region')\n",
    "\n",
    "i=0"
   ]
  },
  {
   "cell_type": "code",
   "execution_count": 2,
   "id": "9e94c959-b8e2-4b24-831c-1d4ea0b4e0fc",
   "metadata": {},
   "outputs": [],
   "source": [
    "import time"
   ]
  },
  {
   "cell_type": "code",
   "execution_count": 13,
   "id": "06061662-b523-4935-bba2-4e05ca933390",
   "metadata": {},
   "outputs": [
    {
     "name": "stdout",
     "output_type": "stream",
     "text": [
      "--- 22.25760054588318 seconds ---\n"
     ]
    }
   ],
   "source": [
    "start_time = time.time()\n",
    "ds = xr.open_dataset(files[i]).isel(time=slice(0,100)).where(mask3d == 1)\n",
    "print(\"--- %s seconds ---\" % (time.time() - start_time))"
   ]
  },
  {
   "cell_type": "code",
   "execution_count": 14,
   "id": "329c75b5-1873-42ec-b43e-f7f65847951a",
   "metadata": {},
   "outputs": [
    {
     "data": {
      "text/plain": [
       "(100, 60, 384, 320)"
      ]
     },
     "execution_count": 14,
     "metadata": {},
     "output_type": "execute_result"
    }
   ],
   "source": [
    "ds.VVEL.values.shape"
   ]
  },
  {
   "cell_type": "code",
   "execution_count": 17,
   "id": "6402777a-da9c-45b6-81a0-72897e3e3fb6",
   "metadata": {},
   "outputs": [],
   "source": [
    "import numpy.ma as ma\n",
    "mask = mask3d.values\n",
    "mask4d = np.tile(mask, [100, 60, 1, 1])"
   ]
  },
  {
   "cell_type": "code",
   "execution_count": 18,
   "id": "fe5b0301-3f0c-4248-a1bd-e42129221ed9",
   "metadata": {},
   "outputs": [
    {
     "name": "stdout",
     "output_type": "stream",
     "text": [
      "--- 17.71786117553711 seconds ---\n"
     ]
    }
   ],
   "source": [
    "start_time2 = time.time()\n",
    "ds_numpy = xr.open_dataset(files[i]).isel(time=slice(0,100)).VVEL.values\n",
    "mx = ma.masked_array(ds_numpy, mask=mask4d)\n",
    "print(\"--- %s seconds ---\" % (time.time() - start_time2))"
   ]
  },
  {
   "cell_type": "code",
   "execution_count": null,
   "id": "3b5ae5f8-fe60-43de-a3f0-3746a95fabd1",
   "metadata": {},
   "outputs": [],
   "source": []
  },
  {
   "cell_type": "code",
   "execution_count": null,
   "id": "e180720a-d9d7-4b25-a0d9-f627c3f0f2dd",
   "metadata": {},
   "outputs": [],
   "source": []
  }
 ],
 "metadata": {
  "kernelspec": {
   "display_name": "Python 3 (ipykernel)",
   "language": "python",
   "name": "python3"
  },
  "language_info": {
   "codemirror_mode": {
    "name": "ipython",
    "version": 3
   },
   "file_extension": ".py",
   "mimetype": "text/x-python",
   "name": "python",
   "nbconvert_exporter": "python",
   "pygments_lexer": "ipython3",
   "version": "3.10.4"
  }
 },
 "nbformat": 4,
 "nbformat_minor": 5
}
