{
 "cells": [
  {
   "cell_type": "markdown",
   "id": "9098b8fe-9c73-4b2e-94f6-42655bc3d951",
   "metadata": {},
   "source": [
    "# Prepare Mean and std for siginificance analysis\n",
    "\n",
    "\n",
    "What do I want to investigate?\n",
    "\n",
    "- Is this behaviour significantly different to the field over all?\n",
    "1. compute mean over historical period per location over all members\n",
    "2. compute standard deviation per member\n",
    "3. store field\n",
    "\n",
    "- Do all members show the same behaviour?\n",
    "1. compute mean over event period (the entire period? only period 1? only period 2?) per location over all event members\n",
    "2. compute standard deviation per member\n",
    "3. store field"
   ]
  },
  {
   "cell_type": "code",
   "execution_count": null,
   "id": "17d25789-98da-4467-9c57-010fe1f6fc2f",
   "metadata": {},
   "outputs": [],
   "source": [
    "import os                   # to interact with the operating system\n",
    "import glob\n",
    "\n",
    "import numpy as np\n",
    "import pandas as pd\n",
    "import xarray as xr"
   ]
  },
  {
   "cell_type": "markdown",
   "id": "4d8fdafd-5cce-48dd-8e14-5c72ef671f5e",
   "metadata": {},
   "source": [
    "1. open file\n",
    "\n",
    "2. compute mean per location over time\n",
    "\n",
    "3. store field\n",
    "\n",
    "4. compute standard deviation between all members per location\n",
    "\n",
    "5. compute standard deviation between all members per location\n",
    "\n",
    "6. save field"
   ]
  },
  {
   "cell_type": "code",
   "execution_count": null,
   "id": "110323e2-aed3-40a4-8916-2ea164adb16a",
   "metadata": {},
   "outputs": [],
   "source": [
    "# set up regional mask\n",
    "grid_name = 'POP_gx1v7'\n",
    "region_defs = {\n",
    "    'North Atlantic and Nordic Seas': [{'match': {'REGION_MASK': [6, 7, 9]}, \n",
    "                             'bounds': {'TLAT': [20., 78.]}}],\n",
    "    'LabradorSea': [{'match': {'REGION_MASK': [8]}, 'bounds': {'TLAT': [45.0, 66.0]}}]\n",
    "} \n",
    "mask3d = pop_tools.region_mask_3d(grid_name, region_defs=region_defs, mask_name='North Atlantic and Nordic Seas')\n",
    "mask3d = mask3d.sum('region')\n",
    "\n",
    "# set time range to historical period\n",
    "hist_period = (2014-1850)*12\n",
    "time = slice(0, hist_period)"
   ]
  },
  {
   "cell_type": "code",
   "execution_count": null,
   "id": "e1be3b00-ce11-4c5a-8c03-1655d5cb8259",
   "metadata": {},
   "outputs": [],
   "source": [
    "path = '/Data/gfi/share/ModData/CESM2_LENS2/ocean/monthly/temp/'\n",
    "files = sorted(glob.glob(path + '*.nc'))\n",
    "\n",
    "# open file\n",
    "ds = xr.open_dataset(files[0]).isel(time=time, z_t=slice(5.0000000e+02, 9.8470586e+04))\n",
    "ds = ds.where(mask3d == 1)\n",
    "ds = ds.mean('z_t')\n",
    "\n",
    "# compute mean per location over time\n",
    "ds = ds.mean('time')\n",
    "ds\n",
    "\n",
    "# store\n",
    "\n",
    "# compute standard deviation between all members per location\n",
    "\n",
    "# compute standard deviation between all members per location\n",
    "\n",
    "# save field"
   ]
  },
  {
   "cell_type": "code",
   "execution_count": null,
   "id": "55d3091a-a997-4f2e-b7e2-54d2bc23788d",
   "metadata": {},
   "outputs": [],
   "source": []
  }
 ],
 "metadata": {
  "kernelspec": {
   "display_name": "Python 3 (ipykernel)",
   "language": "python",
   "name": "python3"
  },
  "language_info": {
   "codemirror_mode": {
    "name": "ipython",
    "version": 3
   },
   "file_extension": ".py",
   "mimetype": "text/x-python",
   "name": "python",
   "nbconvert_exporter": "python",
   "pygments_lexer": "ipython3",
   "version": "3.10.4"
  }
 },
 "nbformat": 4,
 "nbformat_minor": 5
}
