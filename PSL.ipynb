{
 "cells": [
  {
   "cell_type": "code",
   "execution_count": null,
   "id": "38c5ef93-6541-44e2-ae17-93569ea15ee9",
   "metadata": {},
   "outputs": [],
   "source": [
    "import os\n",
    "\n",
    "import numpy as np                         \n",
    "import xarray as xr\n",
    "\n",
    "import glob"
   ]
  },
  {
   "cell_type": "code",
   "execution_count": 1,
   "id": "14fbfa71-a2fd-476a-8202-cc92253015f1",
   "metadata": {},
   "outputs": [],
   "source": [
    "path = '/home/innag3580/phase1_CONDA/'\n",
    "\n",
    "# Load data events and their temporal location\n",
    "data = np.genfromtxt(path+'current/events_dens_spg.csv', delimiter=',', names=True, dtype=None)\n",
    "\n",
    "# Accessing columns by name\n",
    "member_numbers = data['Index']\n",
    "events = data['Values']\n",
    "member_names = np.zeros(len(member_numbers))\n",
    "\n",
    "# set periods\n",
    "before = 40*12\n",
    "after = 20*12\n",
    "\n",
    "# find file names \n",
    "def find_corresponding_file_name(vvel_number_to_find):\n",
    "    with open(path+'timeseries/order.txt', 'r') as file:\n",
    "        vvel_list = file.readlines()\n",
    "    vvel_dict = {filename.split()[1]: int(filename.split()[0]) for filename in vvel_list}\n",
    "    vvel_filename = None\n",
    "    for filename in vvel_list:\n",
    "        if vvel_dict[filename.split()[1]] == vvel_number_to_find:\n",
    "            vvel_filename = filename.split()[1]  \n",
    "            break\n",
    "    return vvel_filename"
   ]
  },
  {
   "cell_type": "markdown",
   "id": "742e0b38-b847-4c58-8913-8d4aa2bebd03",
   "metadata": {},
   "source": [
    "# SELECT TIME RANGE"
   ]
  },
  {
   "cell_type": "code",
   "execution_count": 12,
   "id": "686be273-b127-4d95-a911-58733957dcfd",
   "metadata": {},
   "outputs": [
    {
     "name": "stdout",
     "output_type": "stream",
     "text": [
      "computation member 1301.019.nc started\n",
      "1301.019.nc saved\n",
      "computation member 1231.001.nc started\n",
      "1231.001.nc saved\n",
      "computation member 1281.012.nc started\n",
      "1281.012.nc saved\n",
      "computation member 1301.001.nc started\n",
      "1301.001.nc saved\n",
      "computation member 1281.017.nc started\n",
      "1281.017.nc saved\n",
      "computation member 1231.020.nc started\n",
      "1231.020.nc saved\n",
      "computation member 1231.004.nc started\n",
      "1231.004.nc saved\n",
      "computation member 1281.010.nc started\n",
      "1281.010.nc saved\n",
      "computation member 1281.020.nc started\n",
      "1281.020.nc saved\n",
      "computation member 1301.015.nc started\n",
      "1301.015.nc saved\n",
      "computation member 1281.015.nc started\n",
      "1281.015.nc saved\n",
      "computation member 1231.003.nc started\n",
      "1231.003.nc saved\n",
      "computation member 1251.010.nc started\n",
      "1251.010.nc saved\n"
     ]
    }
   ],
   "source": [
    "for i in range(0, len(member_numbers)):\n",
    "\n",
    "    # define entire time range for event\n",
    "    member = find_corresponding_file_name(member_numbers[i])[5:]\n",
    "    event = events[i]*12\n",
    "    period_start = event-before\n",
    "    period_end = event+after\n",
    "    \n",
    "    print('computation member '+member+' started')\n",
    "\n",
    "    # select time range in data arrays\n",
    "    time = slice(period_start, period_end)\n",
    "\n",
    "    # open files and take annual means \n",
    "    psl_file = '/Data/gfi/share/ModData/CESM2_LENS2/ocean/monthly/psl/psl_'+member\n",
    "    ds = xr.open_dataset(psl_file).isel(time=time).resample(time='A').mean(dim='time')\n",
    "    if 'time_bound' in ds.variables:\n",
    "        ds = ds.drop_vars('time_bound')\n",
    "\n",
    "    # save array\n",
    "    ds.to_netcdf('/Data/gfi/share/ModData/CESM2_LENS2/ocean/monthly/comp/psl_composite_'+member)\n",
    "    \n",
    "    print(member+' saved')"
   ]
  },
  {
   "cell_type": "markdown",
   "id": "4e150ab1-b83d-4d79-9645-c76aef0c83f7",
   "metadata": {},
   "source": [
    "# COMPUTE 60 YEAR ANNUAL COMPOSITES"
   ]
  },
  {
   "cell_type": "code",
   "execution_count": 2,
   "id": "44444ce3-c20d-4641-b370-f4274bd1f486",
   "metadata": {},
   "outputs": [],
   "source": [
    "psl_files = sorted(glob.glob('/Data/gfi/share/ModData/CESM2_LENS2/ocean/monthly/comp/psl_composite_*.nc'))"
   ]
  },
  {
   "cell_type": "code",
   "execution_count": 18,
   "id": "e6627a77-01c4-4d3b-9aca-3435b6b3acf4",
   "metadata": {
    "tags": []
   },
   "outputs": [],
   "source": [
    "var_years = []\n",
    "for t in range(60):\n",
    "    var_year = []\n",
    "    for i in range(len(psl_files)):\n",
    "        try:\n",
    "            ds = xr.open_dataset(psl_files[i])\n",
    "        except ValueError as e:\n",
    "            continue\n",
    "\n",
    "        ds_file = ds['PSL'].isel(time=t)\n",
    "        var_year.append(ds_file)\n",
    "\n",
    "    ds_comp = xr.concat(var_year, dim='file').mean(dim='file')\n",
    "    var_years.append(ds_comp)\n",
    "\n",
    "ds_var_annual = xr.concat(var_years, dim='time')\n",
    "\n",
    "ds_var_annual.to_netcdf('/Data/gfi/share/ModData/CESM2_LENS2/ocean/monthly/comp/PSLcomposite.nc')"
   ]
  },
  {
   "cell_type": "markdown",
   "id": "8da64850-d1c5-4b83-ad6d-119866f9484d",
   "metadata": {},
   "source": [
    "# PERIOD COMPOSITES"
   ]
  },
  {
   "cell_type": "code",
   "execution_count": 19,
   "id": "fa9f89ee-37de-45fe-a4ba-02203c02f39b",
   "metadata": {},
   "outputs": [
    {
     "name": "stdout",
     "output_type": "stream",
     "text": [
      "/Data/gfi/share/ModData/CESM2_LENS2/ocean/monthly/comp/psl_composite_1231.001.nc exists\n",
      "/Data/gfi/share/ModData/CESM2_LENS2/ocean/monthly/comp/psl_composite_1231.003.nc exists\n",
      "/Data/gfi/share/ModData/CESM2_LENS2/ocean/monthly/comp/psl_composite_1231.004.nc exists\n",
      "/Data/gfi/share/ModData/CESM2_LENS2/ocean/monthly/comp/psl_composite_1231.020.nc exists\n",
      "/Data/gfi/share/ModData/CESM2_LENS2/ocean/monthly/comp/psl_composite_1251.010.nc exists\n",
      "/Data/gfi/share/ModData/CESM2_LENS2/ocean/monthly/comp/psl_composite_1281.010.nc exists\n",
      "/Data/gfi/share/ModData/CESM2_LENS2/ocean/monthly/comp/psl_composite_1281.012.nc exists\n",
      "/Data/gfi/share/ModData/CESM2_LENS2/ocean/monthly/comp/psl_composite_1281.015.nc exists\n",
      "/Data/gfi/share/ModData/CESM2_LENS2/ocean/monthly/comp/psl_composite_1281.017.nc exists\n",
      "/Data/gfi/share/ModData/CESM2_LENS2/ocean/monthly/comp/psl_composite_1281.020.nc exists\n",
      "/Data/gfi/share/ModData/CESM2_LENS2/ocean/monthly/comp/psl_composite_1301.001.nc exists\n",
      "/Data/gfi/share/ModData/CESM2_LENS2/ocean/monthly/comp/psl_composite_1301.015.nc exists\n",
      "/Data/gfi/share/ModData/CESM2_LENS2/ocean/monthly/comp/psl_composite_1301.019.nc exists\n"
     ]
    }
   ],
   "source": [
    "psl_anomalies  = []\n",
    "\n",
    "for i in range(len(psl_files)):\n",
    "    try:\n",
    "        ds = xr.open_dataset(psl_files[i])\n",
    "        print(f\"{psl_files[i]} exists\")\n",
    "        # Do further processing with the dataset 'ds' if needed\n",
    "    except ValueError as e:\n",
    "        print(f\"Error opening dataset from file {files[i]}: {e}\")\n",
    "        # Handle the exception, for example, continue with the next file\n",
    "        continue\n",
    "    \n",
    "    # TEMP\n",
    "    period1_avg = ds['PSL'].isel(time=slice(0,35)).mean(dim='time')  \n",
    "    period2_avg = ds['PSL'].isel(time=slice(45,59)).mean(dim='time')\n",
    "    difference = period2_avg - period1_avg\n",
    "    psl_anomalies.append(difference)\n",
    "\n",
    "psl_anomaly = xr.concat(psl_anomalies, dim='file').mean(dim='file')\n",
    "psl_anomaly.to_netcdf(os.path.expanduser('~/phase1_CONDA/')+'/results/composites/psl_anomaly.nc')"
   ]
  }
 ],
 "metadata": {
  "kernelspec": {
   "display_name": "Python 3 (ipykernel)",
   "language": "python",
   "name": "python3"
  },
  "language_info": {
   "codemirror_mode": {
    "name": "ipython",
    "version": 3
   },
   "file_extension": ".py",
   "mimetype": "text/x-python",
   "name": "python",
   "nbconvert_exporter": "python",
   "pygments_lexer": "ipython3",
   "version": "3.10.4"
  }
 },
 "nbformat": 4,
 "nbformat_minor": 5
}
